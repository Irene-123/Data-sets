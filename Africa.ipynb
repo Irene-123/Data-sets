{
 "cells": [
  {
   "cell_type": "code",
   "execution_count": null,
   "metadata": {},
   "outputs": [],
   "source": [
    "import io\n",
    "import requests\n",
    "import zipfile\n",
    "import numpy as np\n",
    "import matplotlib.pyplot as plt\n",
    "import matplotlib.collections as col\n",
    "from matplotlib.colors import Normalize\n",
    "import cartopy.crs as ccrs\n",
    "from cartopy.feature import ShapelyFeature\n",
    "import cartopy.io.shapereader as shpreader\n",
    "%matplotlib inline"
   ]
  },
  {
   "cell_type": "code",
   "execution_count": 18,
   "metadata": {},
   "outputs": [
    {
     "name": "stdout",
     "output_type": "stream",
     "text": [
      "['ABBREV', 'ABBREV_LEN', 'ADM0_A3', 'ADM0_A3_IS', 'ADM0_A3_UN', 'ADM0_A3_US', 'ADM0_A3_WB', 'ADM0_DIF', 'ADMIN', 'BRK_A3', 'BRK_DIFF', 'BRK_GROUP', 'BRK_NAME', 'CONTINENT', 'ECONOMY', 'FIPS_10_', 'FORMAL_EN', 'FORMAL_FR', 'GDP_MD_EST', 'GDP_YEAR', 'GEOUNIT', 'GEOU_DIF', 'GU_A3', 'HOMEPART', 'INCOME_GRP', 'ISO_A2', 'ISO_A3', 'ISO_N3', 'LABELRANK', 'LASTCENSUS', 'LEVEL', 'LONG_LEN', 'MAPCOLOR13', 'MAPCOLOR7', 'MAPCOLOR8', 'MAPCOLOR9', 'NAME', 'NAME_ALT', 'NAME_LEN', 'NAME_LONG', 'NAME_SORT', 'NOTE_ADM0', 'NOTE_BRK', 'POP_EST', 'POP_YEAR', 'POSTAL', 'REGION_UN', 'REGION_WB', 'SOVEREIGNT', 'SOV_A3', 'SUBREGION', 'SUBUNIT', 'SU_A3', 'SU_DIF', 'TINY', 'TYPE', 'UN_A3', 'WB_A2', 'WB_A3', 'WIKIPEDIA', 'WOE_ID', 'WOE_ID_EH', 'WOE_NOTE', 'featurecla', 'scalerank']\n"
     ]
    }
   ],
   "source": [
    "url = ('https://github.com/ipython-books/'\n",
    "       'cookbook-2nd-data/blob/master/'\n",
    "       'africa.zip?raw=true')\n",
    "r=io.BytesIO(requests.get(url).content)\n",
    "zipfile.ZipFile(r).extractall('data')\n",
    "countries = shpreader.Reader(\n",
    "    'data/ne_10m_admin_0_countries.shp')\n",
    "#countries=shpreader.Reader('/home/kirti/Downloads/ne_10m_admin_0_countries/ne_10m_admin_0_countries.shp')\n",
    "\n",
    "countries =countries.records()\n",
    "country = next(countries)\n",
    "print (sorted(country.attributes.keys()))"
   ]
  },
  {
   "cell_type": "code",
   "execution_count": 19,
   "metadata": {},
   "outputs": [
    {
     "ename": "AttributeError",
     "evalue": "'generator' object has no attribute 'records'",
     "output_type": "error",
     "traceback": [
      "\u001b[0;31m---------------------------------------------------------------------------\u001b[0m",
      "\u001b[0;31mAttributeError\u001b[0m                            Traceback (most recent call last)",
      "\u001b[0;32m<ipython-input-19-f916ec8da52a>\u001b[0m in \u001b[0;36m<module>\u001b[0;34m\u001b[0m\n\u001b[1;32m      1\u001b[0m \u001b[0;31m#africa=[c for c in countries.records() if c.attributes['CONTINENT']=='Africa']\u001b[0m\u001b[0;34m\u001b[0m\u001b[0;34m\u001b[0m\u001b[0;34m\u001b[0m\u001b[0m\n\u001b[0;32m----> 2\u001b[0;31m africa = [c for c in countries.records()\n\u001b[0m\u001b[1;32m      3\u001b[0m           if c.attributes['CONTINENT'] == 'Africa']\n",
      "\u001b[0;31mAttributeError\u001b[0m: 'generator' object has no attribute 'records'"
     ]
    }
   ],
   "source": [
    "#africa=[c for c in countries.records() if c.attributes['CONTINENT']=='Africa']\n",
    "africa = [c for c in countries.records()\n",
    "          if c.attributes['CONTINENT'] == 'Africa']\n"
   ]
  },
  {
   "cell_type": "code",
   "execution_count": null,
   "metadata": {},
   "outputs": [],
   "source": [
    "crs=ccrs.PlateCarree()\n",
    "extent=[-23.03,55.20,-37.72,40.58]\n",
    "\n",
    "\n",
    "def draw_africa(ax):\n",
    "    ax.set_extent(extent)\n",
    "    ax.coastlines()\n",
    "    \n",
    "    \n",
    "fig,ax=plt.subplots(1,1,figsize=(6,8),subplot_kw=dict(projection=crs))    \n",
    "draw_africa(ax)"
   ]
  },
  {
   "cell_type": "code",
   "execution_count": null,
   "metadata": {},
   "outputs": [],
   "source": [
    "\n",
    "def choropleth(ax, attr, cmap_name):\n",
    "    # We need to normalize the values before we can\n",
    "    # use the colormap.\n",
    "    values = [c.attributes[attr] for c in africa]\n",
    "    norm = Normalize(\n",
    "        vmin=min(values), vmax=max(values))\n",
    "    cmap = plt.cm.get_cmap(cmap_name)\n",
    "    for c in africa:\n",
    "        v = c.attributes[attr]\n",
    "        sp = ShapelyFeature([c.geometry], crs,\n",
    "                            edgecolor='k',\n",
    "                            facecolor=cmap(norm(v)))\n",
    "        ax.add_feature(sp)"
   ]
  },
  {
   "cell_type": "code",
   "execution_count": null,
   "metadata": {},
   "outputs": [],
   "source": [
    "fig, (ax1, ax2) = plt.subplots(\n",
    "    1, 2, figsize=(10, 16),\n",
    "    subplot_kw=dict(projection=crs))\n",
    "draw_africa(ax1)\n",
    "choropleth(ax1, 'POP_EST', 'Reds')\n",
    "ax1.set_title('Population')\n",
    "\n",
    "draw_africa(ax2)\n",
    "choropleth(ax2, 'GDP_MD_EST', 'Blues')\n",
    "ax2.set_title('GDP')"
   ]
  },
  {
   "cell_type": "code",
   "execution_count": null,
   "metadata": {},
   "outputs": [],
   "source": []
  },
  {
   "cell_type": "code",
   "execution_count": null,
   "metadata": {},
   "outputs": [],
   "source": []
  },
  {
   "cell_type": "code",
   "execution_count": null,
   "metadata": {},
   "outputs": [],
   "source": []
  }
 ],
 "metadata": {
  "kernelspec": {
   "display_name": "Python 3",
   "language": "python",
   "name": "python3"
  },
  "language_info": {
   "codemirror_mode": {
    "name": "ipython",
    "version": 3
   },
   "file_extension": ".py",
   "mimetype": "text/x-python",
   "name": "python",
   "nbconvert_exporter": "python",
   "pygments_lexer": "ipython3",
   "version": "3.8.5"
  }
 },
 "nbformat": 4,
 "nbformat_minor": 4
}
